{
  "nbformat": 4,
  "nbformat_minor": 0,
  "metadata": {
    "colab": {
      "name": "web scrapping with BeautifulSoup.ipynb",
      "provenance": [],
      "authorship_tag": "ABX9TyNXI5SFPJzGvTVEvQFGMvV1",
      "include_colab_link": true
    },
    "kernelspec": {
      "name": "python3",
      "display_name": "Python 3"
    },
    "language_info": {
      "name": "python"
    }
  },
  "cells": [
    {
      "cell_type": "markdown",
      "metadata": {
        "id": "view-in-github",
        "colab_type": "text"
      },
      "source": [
        "<a href=\"https://colab.research.google.com/github/AlaaZaki3/Web-Scraping-/blob/main/web_scrapping_with_BeautifulSoup.ipynb\" target=\"_parent\"><img src=\"https://colab.research.google.com/assets/colab-badge.svg\" alt=\"Open In Colab\"/></a>"
      ]
    },
    {
      "cell_type": "code",
      "metadata": {
        "colab": {
          "base_uri": "https://localhost:8080/"
        },
        "id": "txWQPS87Amzv",
        "outputId": "10321cbb-f7fc-4c80-ae7a-c31fd8880d7d"
      },
      "source": [
        "pip install BeautifulSoup\n"
      ],
      "execution_count": 1,
      "outputs": [
        {
          "output_type": "stream",
          "name": "stdout",
          "text": [
            "Collecting BeautifulSoup\n",
            "  Downloading BeautifulSoup-3.2.2.tar.gz (32 kB)\n",
            "\u001b[33mWARNING: Discarding https://files.pythonhosted.org/packages/40/f2/6c9f2f3e696ee6a1fb0e4d7850617e224ed2b0b1e872110abffeca2a09d4/BeautifulSoup-3.2.2.tar.gz#sha256=a04169602bff6e3138b1259dbbf491f5a27f9499dea9a8fbafd48843f9d89970 (from https://pypi.org/simple/beautifulsoup/). Command errored out with exit status 1: python setup.py egg_info Check the logs for full command output.\u001b[0m\n",
            "  Downloading BeautifulSoup-3.2.1.tar.gz (31 kB)\n",
            "\u001b[33mWARNING: Discarding https://files.pythonhosted.org/packages/1e/ee/295988deca1a5a7accd783d0dfe14524867e31abb05b6c0eeceee49c759d/BeautifulSoup-3.2.1.tar.gz#sha256=6a8cb4401111e011b579c8c52a51cdab970041cc543814bbd9577a4529fe1cdb (from https://pypi.org/simple/beautifulsoup/). Command errored out with exit status 1: python setup.py egg_info Check the logs for full command output.\u001b[0m\n",
            "  Downloading BeautifulSoup-3.2.0.tar.gz (31 kB)\n",
            "\u001b[33mWARNING: Discarding https://files.pythonhosted.org/packages/33/fe/15326560884f20d792d3ffc7fe8f639aab88647c9d46509a240d9bfbb6b1/BeautifulSoup-3.2.0.tar.gz#sha256=0dc52d07516c1665c9dd9f0a390a7a054bfb7b147a50b2866fb116b8909dfd37 (from https://pypi.org/simple/beautifulsoup/). Command errored out with exit status 1: python setup.py egg_info Check the logs for full command output.\u001b[0m\n",
            "\u001b[31mERROR: Could not find a version that satisfies the requirement BeautifulSoup (from versions: 3.2.0, 3.2.1, 3.2.2)\u001b[0m\n",
            "\u001b[31mERROR: No matching distribution found for BeautifulSoup\u001b[0m\n"
          ]
        }
      ]
    },
    {
      "cell_type": "code",
      "metadata": {
        "colab": {
          "base_uri": "https://localhost:8080/"
        },
        "id": "fpKHNXnEAn_J",
        "outputId": "89ee5f3e-b59d-478b-8e7e-d326b3055896"
      },
      "source": [
        "pip install lxml"
      ],
      "execution_count": 2,
      "outputs": [
        {
          "output_type": "stream",
          "name": "stdout",
          "text": [
            "Requirement already satisfied: lxml in /usr/local/lib/python3.7/dist-packages (4.2.6)\n"
          ]
        }
      ]
    },
    {
      "cell_type": "code",
      "metadata": {
        "colab": {
          "base_uri": "https://localhost:8080/"
        },
        "id": "_4-zpvxEA0PI",
        "outputId": "b7afdf6c-4016-4e80-e385-eda0a29ebb31"
      },
      "source": [
        "#import libraries\n",
        "import requests\n",
        "from bs4 import BeautifulSoup\n",
        "import csv\n",
        "from itertools import zip_longest\n",
        "from google.colab import files\n",
        "from google.colab import drive\n",
        "drive.mount('/content/drive')\n",
        "#Go to this URL in a browser: https://accounts.google.com/o/oauth2/auth?client_id=947318989803-6bn6qk8qdgf4n4g3pfee6491hc0brc4i.apps.googleusercontent.com&redirect_uri=urn%3Aietf%3Awg%3Aoauth%3A2.0%3Aoob&scope=email%20https%3A%2F%2Fwww.googleapis.com%2Fauth%2Fdocs.test%20https%3A%2F%2Fwww.googleapis.com%2Fauth%2Fdrive%20https%3A%2F%2Fwww.googleapis.com%2Fauth%2Fdrive.photos.readonly%20https%3A%2F%2Fwww.googleapis.com%2Fauth%2Fpeopleapi.readonly&response_type=code\n",
        "#Enter your authorization code:\n"
      ],
      "execution_count": 11,
      "outputs": [
        {
          "output_type": "stream",
          "name": "stdout",
          "text": [
            "Drive already mounted at /content/drive; to attempt to forcibly remount, call drive.mount(\"/content/drive\", force_remount=True).\n"
          ]
        }
      ]
    },
    {
      "cell_type": "code",
      "metadata": {
        "id": "jKZIxKdjBCgA"
      },
      "source": [
        "#fetch the url using requests \n",
        "page_link = requests.get(\"https://www.ikea.com/eg/en/new/new-products/\")"
      ],
      "execution_count": 12,
      "outputs": []
    },
    {
      "cell_type": "code",
      "metadata": {
        "id": "zj3QD8x1BFBP"
      },
      "source": [
        "#save page content\n",
        "page_content = page_link.content\n",
        "#page_content"
      ],
      "execution_count": 13,
      "outputs": []
    },
    {
      "cell_type": "code",
      "metadata": {
        "id": "gkZP4Uw6BH-m"
      },
      "source": [
        "#parse content\n",
        "soup = BeautifulSoup(page_content, \"lxml\")\n",
        "#soup"
      ],
      "execution_count": 14,
      "outputs": []
    },
    {
      "cell_type": "code",
      "metadata": {
        "id": "-2dBJhXyBhP9"
      },
      "source": [
        "#create empty list to fill it with values of products and prices\n",
        "product = [ ]\n",
        "price = [ ]"
      ],
      "execution_count": 15,
      "outputs": []
    },
    {
      "cell_type": "code",
      "metadata": {
        "colab": {
          "base_uri": "https://localhost:8080/"
        },
        "id": "hA30gA7QBpXF",
        "outputId": "b246166f-bb70-4be8-d795-809008d749aa"
      },
      "source": [
        "#find the info we need\n",
        "products = soup.find_all(\"span\", {\"class\": \"range-revamp-header-section__description-text\"})\n",
        "prices = soup.find_all(\"span\", {\"class\": \"range-revamp-price__integer\" })\n",
        "len(products)"
      ],
      "execution_count": 16,
      "outputs": [
        {
          "output_type": "execute_result",
          "data": {
            "text/plain": [
              "28"
            ]
          },
          "metadata": {},
          "execution_count": 16
        }
      ]
    },
    {
      "cell_type": "code",
      "metadata": {
        "colab": {
          "base_uri": "https://localhost:8080/"
        },
        "id": "EJdQg9pKB3MH",
        "outputId": "76d43aae-d1b6-476c-a238-e193bc45267f"
      },
      "source": [
        "#loop over returned list to extract needed info into other lists  \n",
        "for i in range(len(products)):\n",
        "    product.append(products[i].text)\n",
        "    price.append(prices[i].text)\n",
        "print(product)"
      ],
      "execution_count": 17,
      "outputs": [
        {
          "output_type": "stream",
          "name": "stdout",
          "text": [
            "['Pillowcase', 'Drawer unit', 'Fitted sheet', 'Nail polish stand, 3 comp/1 drawer', 'Pillowcase', 'Drawer unit', 'Fitted sheet', 'Nail polish stand, 3 comp/1 drawer', 'Decorative hourglass', 'Make-up storage w comp/2 drawers', 'Block-out curtain, 1 length', 'Desk', 'Open shelving unit', 'Soft toy', 'Storage combination w glass doors', 'Open shelving unit', 'Poster', 'Plant stand with wheels', 'Shelving unit', 'Shelving unit', 'Storage combination with drawers', 'Wall-mounted storage combination', 'Desk and storage combination', 'TV storage combination/glass doors', 'TV storage combination/glass doors', 'TV bench with doors and drawers', 'TV bench with drawers and door', 'Wall-mounted cabinet combination']\n"
          ]
        }
      ]
    },
    {
      "cell_type": "code",
      "metadata": {
        "id": "f29on7CxB5dI"
      },
      "source": [
        "#create and fill csv file\n",
        "\n",
        "file_list = [product, price]\n",
        "exported = zip_longest(*file_list)\n",
        "with open('/content/drive/My Drive/data science projects/IKEA.csv', 'w') as IKEA:\n",
        "  file = csv.writer(IKEA)\n",
        "  file.writerow([\"product\", \"price\"])\n",
        "  file.writerows(exported)\n"
      ],
      "execution_count": 24,
      "outputs": []
    },
    {
      "cell_type": "code",
      "metadata": {
        "id": "tYWz2z6-PwBb"
      },
      "source": [
        ""
      ],
      "execution_count": null,
      "outputs": []
    }
  ]
}